{
 "cells": [
  {
   "cell_type": "markdown",
   "id": "be2bc9f7",
   "metadata": {},
   "source": [
    "### **Проект по очистке и подготовке данных сотрудников**\n",
    "\n",
    "В этом проекте мы выполняем **очистку и подготовку данных** с использованием **Pandas**, обеспечивая структурированность и готовность набора данных к анализу. Мы обрабатываем **пропущенные значения, преобразования данных, преобразования типов и извлечение признаков**.\n",
    "\n",
    "---\n",
    "\n",
    "### **Инструкции по проекту**\n",
    "\n",
    "1. **Определение пропущенных значений**: Определите и выведите количество пропущенных значений в каждом столбце.\n",
    "2. **Удаление строк с пропущенными значениями**: Удалите строки, содержащие любые пропущенные значения.\n",
    "3. **Заполнение пропущенных значений**: Заполните пропущенные значения в определенных столбцах подходящими значениями по умолчанию или статистиками.\n",
    "4. **Переупорядочивание столбцов для анализа**: Переупорядочьте столбцы, чтобы разместить 'Name', 'Department' и 'Salary' в начале для лучшей читаемости.\n",
    "5. **Добавление столбца с бонусами**: Добавьте столбец 'Bonus', где каждая запись составляет 10% от зарплаты.\n",
    "6. **Преобразование типов данных**: Убедитесь в правильности типов данных для числовых и датированных полей.\n",
    "7. **Извлечение года найма**: Извлеките год из столбца 'HireDate' и добавьте его как новый столбец под названием 'HireYear'.\n",
    "8. **Поиск самого долго работающего сотрудника**: Найдите сотрудника, который проработал в компании дольше всех, и отобразите его данные вместе с количеством лет, месяцев и дней службы в отформатированном виде. Пример: \"Джон Доу проработал 10 лет, 3 месяца и 15 дней.\"\n",
    "9. **Категоризация по стажу**: Классифицируйте сотрудников как младших, среднего уровня или старших на основе лет службы.\n",
    "10. **Поиск самого высокооплачиваемого сотрудника**: Определите самого высокооплачиваемого сотрудника в DataFrame.\n",
    "11. **Сброс индекса**: Сбросьте индекс DataFrame после упорядочивания.\n",
    "12. **Добавление столбца с полным именем**: Добавьте столбец 'FullName', объединив 'Name' с 'LastName'.\n",
    "13. **Запись в CSV**: Запишите окончательный DataFrame в CSV-файл.\n",
    "14. **Удаление временных столбцов**: Удалите любые столбцы, которые были добавлены временно для расчетов или анализа.\n",
    "\n",
    "---\n",
    "\n",
    "### **Создание DataFrame**\n",
    "\n",
    "Следующий код генерирует случайный DataFrame с пропущенными значениями. Этот шаг предоставлен и не требует реализации в рамках задач.\n",
    "\n"
   ]
  },
  {
   "cell_type": "code",
   "execution_count": 53,
   "id": "6a04a7e9",
   "metadata": {},
   "outputs": [],
   "source": [
    "import pandas as pd\n",
    "import numpy as np\n",
    "import random\n",
    "\n",
    "def create_dataframe(n: int = 100) -> pd.DataFrame:\n",
    "    \"\"\"\n",
    "    Create a random DataFrame with n elements for each column, including missing values.\n",
    "\n",
    "    Args:\n",
    "        n (int): Number of elements in each column.\n",
    "\n",
    "    Returns:\n",
    "        pd.DataFrame: DataFrame with random employee data and missing values.\n",
    "    \"\"\"\n",
    "    first_names = ['Anna', 'Ben', 'Cathy', 'Diana', 'Evan', None]\n",
    "    last_names = ['Smith', 'Johnson', 'Williams', 'Jones', 'Brown', None]\n",
    "    \n",
    "    data = {\n",
    "        'EmployeeID': np.arange(1, n + 1),\n",
    "        'Name': [random.choice(first_names) for _ in range(n)],\n",
    "        'LastName': [random.choice(last_names) for _ in range(n)],\n",
    "        'Age': [random.choice([random.randint(20, 60), None]) for _ in range(n)],\n",
    "        'Department': [random.choice(['Sales', 'Marketing', 'IT', 'HR', 'Finance', None]) for _ in range(n)],\n",
    "        'Salary': [random.choice([random.randint(40000, 100000), None]) for _ in range(n)],\n",
    "        'HireDate': [random.choice([pd.to_datetime(date), None]) for date in np.random.choice(pd.date_range('2005-01-01', '2025-01-31'), size=n)]\n",
    "    }\n",
    "    return pd.DataFrame(data)\n",
    "\n",
    "# Создайте случайный DataFrame с пропущенными значениями\n",
    "random.seed(0)\n",
    "df = create_dataframe(1000)"
   ]
  },
  {
   "cell_type": "markdown",
   "id": "0c035d30",
   "metadata": {},
   "source": [
    "\n",
    "---\n",
    "\n",
    "### **Реализация**\n",
    "\n"
   ]
  },
  {
   "cell_type": "code",
   "execution_count": 54,
   "id": "9c5bfc05",
   "metadata": {},
   "outputs": [
    {
     "name": "stdout",
     "output_type": "stream",
     "text": [
      "EmployeeID      0\n",
      "Name          169\n",
      "LastName      174\n",
      "Age           491\n",
      "Department    168\n",
      "Salary        481\n",
      "HireDate      502\n",
      "dtype: int64\n"
     ]
    }
   ],
   "source": [
    "# Определите количество пропущенных значений в каждом столбце\n",
    "missing_values = df.isna().sum()\n",
    "print(missing_values)"
   ]
  },
  {
   "cell_type": "code",
   "execution_count": 55,
   "id": "ca926e60",
   "metadata": {},
   "outputs": [
    {
     "name": "stdout",
     "output_type": "stream",
     "text": [
      "(65, 7)\n"
     ]
    }
   ],
   "source": [
    "# Удаление строк с пропущенными значениями\n",
    "df_dropped = df.dropna()\n",
    "print(df_dropped.shape)"
   ]
  },
  {
   "cell_type": "code",
   "execution_count": 56,
   "id": "a86c0970",
   "metadata": {},
   "outputs": [
    {
     "name": "stdout",
     "output_type": "stream",
     "text": [
      "     EmployeeID     Name  LastName        Age Department        Salary  \\\n",
      "0             1    Diana   Unknown  40.611002  Marketing  71123.013487   \n",
      "1             2    Diana   Johnson  28.000000    Unknown  71123.013487   \n",
      "2             3     Anna   Johnson  40.611002         IT  85447.000000   \n",
      "3             4    Cathy     Brown  30.000000         HR  71123.013487   \n",
      "4             5     Evan  Williams  40.611002  Marketing  71123.013487   \n",
      "..          ...      ...       ...        ...        ...           ...   \n",
      "995         996     Anna     Smith  27.000000         HR  71123.013487   \n",
      "996         997    Cathy   Unknown  60.000000         HR  60383.000000   \n",
      "997         998  Unknown     Jones  45.000000         IT  44097.000000   \n",
      "998         999  Unknown  Williams  38.000000         IT  54676.000000   \n",
      "999        1000    Cathy     Jones  56.000000      Sales  71123.013487   \n",
      "\n",
      "      HireDate  \n",
      "0   2005-02-15  \n",
      "1   2005-02-15  \n",
      "2   2005-11-17  \n",
      "3   2005-02-15  \n",
      "4   2005-02-15  \n",
      "..         ...  \n",
      "995 2005-02-15  \n",
      "996 2005-02-15  \n",
      "997 2009-04-09  \n",
      "998 2011-02-09  \n",
      "999 2025-01-21  \n",
      "\n",
      "[1000 rows x 7 columns]\n"
     ]
    }
   ],
   "source": [
    "# Заполняем пропущенные значения\n",
    "df_filled = df.fillna({\n",
    "    'Name': 'Unknown',\n",
    "    'LastName': 'Unknown',\n",
    "    'Age': df['Age'].mean(),\n",
    "    'Department': 'Unknown',\n",
    "    'Salary': df['Salary'].mean(),\n",
    "    'HireDate': df['HireDate'].min()\n",
    "})\n",
    "print(df_filled)\n"
   ]
  },
  {
   "cell_type": "code",
   "execution_count": 57,
   "id": "fdf0051e",
   "metadata": {},
   "outputs": [
    {
     "name": "stdout",
     "output_type": "stream",
     "text": [
      "      Name Department   Salary   Age   HireDate  EmployeeID  LastName\n",
      "0    Diana  Marketing      NaN   NaN        NaT           1      None\n",
      "1    Diana       None      NaN  28.0        NaT           2   Johnson\n",
      "2     Anna         IT  85447.0   NaN 2005-11-17           3   Johnson\n",
      "3    Cathy         HR      NaN  30.0        NaT           4     Brown\n",
      "4     Evan  Marketing      NaN   NaN        NaT           5  Williams\n",
      "..     ...        ...      ...   ...        ...         ...       ...\n",
      "995   Anna         HR      NaN  27.0        NaT         996     Smith\n",
      "996  Cathy         HR  60383.0  60.0        NaT         997      None\n",
      "997   None         IT  44097.0  45.0 2009-04-09         998     Jones\n",
      "998   None         IT  54676.0  38.0 2011-02-09         999  Williams\n",
      "999  Cathy      Sales      NaN  56.0 2025-01-21        1000     Jones\n",
      "\n",
      "[1000 rows x 7 columns]\n"
     ]
    }
   ],
   "source": [
    "# Меняем порядок столбцов\n",
    "df=df[['Name', 'Department','Salary','Age','HireDate','EmployeeID','LastName']]\n",
    "print(df)"
   ]
  },
  {
   "cell_type": "code",
   "execution_count": 58,
   "id": "fff0447f",
   "metadata": {},
   "outputs": [
    {
     "name": "stdout",
     "output_type": "stream",
     "text": [
      "      Name Department   Salary   Age   HireDate  EmployeeID  LastName   Bonus\n",
      "0    Diana  Marketing      NaN   NaN        NaT           1      None     NaN\n",
      "1    Diana       None      NaN  28.0        NaT           2   Johnson     NaN\n",
      "2     Anna         IT  85447.0   NaN 2005-11-17           3   Johnson  8544.7\n",
      "3    Cathy         HR      NaN  30.0        NaT           4     Brown     NaN\n",
      "4     Evan  Marketing      NaN   NaN        NaT           5  Williams     NaN\n",
      "..     ...        ...      ...   ...        ...         ...       ...     ...\n",
      "995   Anna         HR      NaN  27.0        NaT         996     Smith     NaN\n",
      "996  Cathy         HR  60383.0  60.0        NaT         997      None  6038.3\n",
      "997   None         IT  44097.0  45.0 2009-04-09         998     Jones  4409.7\n",
      "998   None         IT  54676.0  38.0 2011-02-09         999  Williams  5467.6\n",
      "999  Cathy      Sales      NaN  56.0 2025-01-21        1000     Jones     NaN\n",
      "\n",
      "[1000 rows x 8 columns]\n"
     ]
    }
   ],
   "source": [
    "# Добавляем столбец Bonus и заполняем его 10% от Salary\n",
    "df['Bonus']= df['Salary']*0.1\n",
    "print(df)\n"
   ]
  },
  {
   "cell_type": "code",
   "execution_count": 59,
   "id": "6e3371ad",
   "metadata": {},
   "outputs": [],
   "source": [
    "# Преобразованиетипов данных\n",
    "df['HireDate']=pd.to_datetime(df['HireDate'])\n"
   ]
  },
  {
   "cell_type": "code",
   "execution_count": 60,
   "id": "2be3cc6a",
   "metadata": {},
   "outputs": [],
   "source": [
    "# Извлечение года найма\n",
    "df['HireYear']=df['HireDate'].dt.year"
   ]
  },
  {
   "cell_type": "code",
   "execution_count": 61,
   "id": "fbecfff4",
   "metadata": {},
   "outputs": [
    {
     "name": "stdout",
     "output_type": "stream",
     "text": [
      "DianaBrown проработал(а) 20 лет, 0 месяцев и 6 дней, с 15-02-2005.\n"
     ]
    }
   ],
   "source": [
    "# Поиск самого долго работающего сотрудника\n",
    "# Убираем строки с пропущенными датами найма\n",
    "df_cleaned = df.dropna(subset=['HireDate']).copy()  # Добавляем .copy() для создания копии\n",
    "\n",
    "# Получаем текущую дату\n",
    "current_date = pd.to_datetime(pd.Timestamp.today().date())\n",
    "\n",
    "# Функция для вычисления продолжительности работы в годах, месяцах и днях\n",
    "def calculate_duration(hire_date, current_date):\n",
    "    # Разница в годах\n",
    "    years = current_date.year - hire_date.year\n",
    "    months = current_date.month - hire_date.month\n",
    "    days = current_date.day - hire_date.day\n",
    "\n",
    "    # Если месяцы отрицательные, уменьшаем количество лет на 1 и добавляем 12 к месяцам\n",
    "    if months < 0:\n",
    "        years -= 1\n",
    "        months += 12\n",
    "\n",
    "    # Если дни отрицательные, уменьшаем количество месяцев на 1 и корректируем количество дней\n",
    "    if days < 0:\n",
    "        months -= 1\n",
    "        days += pd.Timestamp(current_date).days_in_month - hire_date.day\n",
    "    \n",
    "    return years, months, days\n",
    "\n",
    "# Применяем функцию к каждому сотруднику и вычисляем продолжительность службы\n",
    "df_cleaned[['YearsOfService', 'MonthsOfService', 'DaysOfService']] = df_cleaned['HireDate'].apply(\n",
    "    lambda x: pd.Series(calculate_duration(x, current_date)))\n",
    "\n",
    "# Находим сотрудника с наибольшим количеством лет службы\n",
    "longest_serving_employee = df_cleaned.loc[df_cleaned['YearsOfService'].idxmax()]\n",
    "\n",
    "# Получаем имя и продолжительность работы\n",
    "employee_name = longest_serving_employee['Name']+ longest_serving_employee['LastName']\n",
    "years = longest_serving_employee['YearsOfService']\n",
    "months = longest_serving_employee['MonthsOfService']\n",
    "days = longest_serving_employee['DaysOfService']\n",
    "hire_date = longest_serving_employee['HireDate']\n",
    "\n",
    "# Формируем строку с результатом\n",
    "result = f\"{employee_name} проработал(а) {years} лет, {months} месяцев и {days} дней, с {hire_date.strftime('%d-%m-%Y')}.\"\n",
    "\n",
    "print(result)"
   ]
  },
  {
   "cell_type": "code",
   "execution_count": 62,
   "id": "375547e3",
   "metadata": {},
   "outputs": [
    {
     "name": "stdout",
     "output_type": "stream",
     "text": [
      "     Name  LastName  YearsOfService ExperienceLevel\n",
      "2    Anna   Johnson              19          Senior\n",
      "6   Diana     Smith               0          Junior\n",
      "7   Cathy     Jones              18          Senior\n",
      "11    Ben     Jones              15          Senior\n",
      "13    Ben  Williams              10       Mid-level\n"
     ]
    }
   ],
   "source": [
    "\n",
    "# Категоризация по стажу\n",
    "def categorize_by_experience(years):\n",
    "    if years < 5:\n",
    "        return 'Junior'\n",
    "    elif 5 <= years <= 10:\n",
    "        return 'Mid-level'\n",
    "    else:\n",
    "        return 'Senior'\n",
    "    \n",
    "\n",
    "# Создаем новый столбец 'ExperienceLevel'\n",
    "df_cleaned['ExperienceLevel'] = df_cleaned['YearsOfService'].apply(categorize_by_experience)\n",
    "\n",
    "# Просмотр первых строк с новой категорией\n",
    "print(df_cleaned[['Name', 'LastName', 'YearsOfService', 'ExperienceLevel']].head())"
   ]
  },
  {
   "cell_type": "code",
   "execution_count": 70,
   "id": "990524c1",
   "metadata": {},
   "outputs": [
    {
     "name": "stdout",
     "output_type": "stream",
     "text": [
      "Самый высокооплачиваемый сотрудник: AnnaBrown, Зарплата: 99979.0\n"
     ]
    }
   ],
   "source": [
    "# Поиск самого высокооплачиваемого сотрудника\n",
    "# Убираем строки с пропущенными значениями зарплаты\n",
    "df_cleaned = df.dropna(subset=['Salary']).copy() # Добавляем .copy() для создания копии \n",
    "#Находим индекс строки с самой высокой зарплатой\n",
    "highest_paid_employee = df_cleaned.loc[df_cleaned['Salary'].idxmax()]\n",
    "\n",
    "# Получаем имя, фамилию и зарплату\n",
    "employee_name = highest_paid_employee['Name'] + highest_paid_employee['LastName']\n",
    "salary = highest_paid_employee['Salary']\n",
    "\n",
    "# Формируем строку с результатом\n",
    "result = f\"Самый высокооплачиваемый сотрудник: {employee_name}, Зарплата: {salary}\"\n",
    "\n",
    "print(result)"
   ]
  },
  {
   "cell_type": "code",
   "execution_count": 64,
   "id": "acb58a48",
   "metadata": {},
   "outputs": [],
   "source": [
    "# Сброс индекса\n",
    "df_cleaned.reset_index(drop=True, inplace=True)"
   ]
  },
  {
   "cell_type": "code",
   "execution_count": 71,
   "id": "b230316a",
   "metadata": {},
   "outputs": [
    {
     "name": "stdout",
     "output_type": "stream",
     "text": [
      "      Name Department   Salary   Age   HireDate  EmployeeID  LastName   Bonus  \\\n",
      "2     Anna         IT  85447.0   NaN 2005-11-17           3   Johnson  8544.7   \n",
      "6    Diana         HR  58241.0   NaN 2024-07-17           7     Smith  5824.1   \n",
      "7    Cathy       None  86505.0  54.0 2006-12-09           8     Jones  8650.5   \n",
      "10    Evan       None  71179.0  34.0        NaT          11  Williams  7117.9   \n",
      "11     Ben  Marketing  45441.0  53.0 2010-02-06          12     Jones  4544.1   \n",
      "..     ...        ...      ...   ...        ...         ...       ...     ...   \n",
      "993   Anna         HR  97939.0  51.0 2007-11-14         994     Brown  9793.9   \n",
      "994   Evan    Finance  49788.0  29.0        NaT         995     Jones  4978.8   \n",
      "996  Cathy         HR  60383.0  60.0        NaT         997      None  6038.3   \n",
      "997   None         IT  44097.0  45.0 2009-04-09         998     Jones  4409.7   \n",
      "998   None         IT  54676.0  38.0 2011-02-09         999  Williams  5467.6   \n",
      "\n",
      "     HireYear      FullName  \n",
      "2      2005.0   AnnaJohnson  \n",
      "6      2024.0    DianaSmith  \n",
      "7      2006.0    CathyJones  \n",
      "10        NaN  EvanWilliams  \n",
      "11     2010.0      BenJones  \n",
      "..        ...           ...  \n",
      "993    2007.0     AnnaBrown  \n",
      "994       NaN     EvanJones  \n",
      "996       NaN           NaN  \n",
      "997    2009.0           NaN  \n",
      "998    2011.0           NaN  \n",
      "\n",
      "[519 rows x 10 columns]\n"
     ]
    }
   ],
   "source": [
    "# Добавление столбца с полным именем\n",
    "df_cleaned['FullName'] = df_cleaned['Name']  + df_cleaned['LastName']\n",
    "print(df_cleaned)"
   ]
  },
  {
   "cell_type": "code",
   "execution_count": 66,
   "id": "d29d65f0",
   "metadata": {},
   "outputs": [],
   "source": [
    "# Запись в CSV\n",
    "df_cleaned.to_csv('employee_data.csv', index=False)"
   ]
  },
  {
   "cell_type": "code",
   "execution_count": 67,
   "id": "8c52881c",
   "metadata": {},
   "outputs": [
    {
     "name": "stdout",
     "output_type": "stream",
     "text": [
      "Столбцы в DataFrame: Index(['Name', 'Department', 'Salary', 'Age', 'HireDate', 'EmployeeID',\n",
      "       'LastName', 'Bonus', 'HireYear', 'FullName'],\n",
      "      dtype='object')\n",
      "Index(['Name', 'Department', 'Salary', 'Age', 'HireDate', 'EmployeeID',\n",
      "       'LastName', 'Bonus', 'HireYear', 'FullName'],\n",
      "      dtype='object')\n"
     ]
    }
   ],
   "source": [
    "# Удаление временных столбцов\n",
    "# Сначала проверяем, какие столбцы существуют\n",
    "print(\"Столбцы в DataFrame:\", df_cleaned.columns)\n",
    "\n",
    "# Удаляем временные столбцы, если они существуют\n",
    "temp_columns = ['YearsOfService', 'MonthsOfService', 'DaysOfService']\n",
    "\n",
    "# Проверяем, какие столбцы из временных есть в DataFrame и удаляем их\n",
    "df_cleaned.drop(columns=[col for col in temp_columns if col in df_cleaned.columns], inplace=True)\n",
    "\n",
    "# Печатаем результат\n",
    "print(df_cleaned.columns)"
   ]
  },
  {
   "cell_type": "markdown",
   "id": "4da4fd40",
   "metadata": {},
   "source": [
    "\n",
    "---\n",
    "\n",
    "### **Резюме**\n",
    "\n",
    "Этот проект демонстрирует **очистку и предобработку данных** с использованием **Pandas** для набора данных сотрудников. Основные техники включают обработку **пропущенных значений**, **преобразования данных**, **преобразования типов** и **инженерию признаков** (например, классификацию по стажу). Это обеспечивает структурированность и готовность набора данных к будущему анализу.\n",
    "\n",
    "### Как отправить проект\n",
    "\n",
    "1. Создайте файл Jupyter Notebook на вашем Google Диске.\n",
    "2. Напишите ваше решение в ноутбуке.\n",
    "3. Поделитесь доступом с вашим наставником (или предоставьте ссылку с правами на редактирование).\n",
    "4. Отправьте ссылку на файл ноутбука или папку в качестве вашего решения для этого урока."
   ]
  }
 ],
 "metadata": {
  "kernelspec": {
   "display_name": "Python 3",
   "language": "python",
   "name": "python3"
  },
  "language_info": {
   "codemirror_mode": {
    "name": "ipython",
    "version": 3
   },
   "file_extension": ".py",
   "mimetype": "text/x-python",
   "name": "python",
   "nbconvert_exporter": "python",
   "pygments_lexer": "ipython3",
   "version": "3.9.6"
  }
 },
 "nbformat": 4,
 "nbformat_minor": 5
}
