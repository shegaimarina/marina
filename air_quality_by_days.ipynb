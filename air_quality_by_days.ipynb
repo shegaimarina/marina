{
 "cells": [
  {
   "cell_type": "markdown",
   "id": "66756b6d",
   "metadata": {},
   "source": [
    "# Обработка и анализ данных о качестве воздуха\n",
    "\n",
    "Этот проект включает в себя обработку и анализ набора данных о качестве воздуха с использованием Python и Pandas. Набор данных содержит несколько ежедневных CSV-файлов, которые объединяются в один набор данных для дальнейшего анализа. Основные цели:\n",
    "- Загрузка набора данных.\n",
    "- Объединение нескольких CSV-файлов.\n",
    "- Эффективная обработка пропущенных значений.\n",
    "- Преобразование типов данных и очистка данных.\n",
    "- Проведение разведывательного анализа данных (EDA).\n",
    "- Определение дат с наивысшими уровнями CO(GT) и NO2(GT).\n",
    "\n",
    "## Описание набора данных\n",
    "Набор данных содержит информацию о качестве воздуха, собранную в течение нескольких дней. Каждый CSV-файл представляет данные за один день и включает следующие столбцы:\n",
    "\n",
    "1. **Date**: (ДД/ММ/ГГГГ)\n",
    "2. **Time**: (ЧЧ.ММ.СС)\n",
    "3. **CO(GT)**: Истинная среднечасовая концентрация CO в мг/м³ (референтный анализатор)\n",
    "4. **PT08.S1(CO)**: Среднечасовой отклик сенсора на основе олова (номинально нацелен на CO)\n",
    "5. **NMHC(GT)**: Истинная среднечасовая концентрация общих неметановых углеводородов в мкг/м³ (референтный анализатор)\n",
    "6. **C6H6(GT)**: Истинная среднечасовая концентрация бензола в мкг/м³ (референтный анализатор)\n",
    "7. **PT08.S2(NMHC)**: Среднечасовой отклик сенсора на основе титана (номинально нацелен на NMHC)\n",
    "8. **NOx(GT)**: Истинная среднечасовая концентрация NOx в ppb (референтный анализатор)\n",
    "9. **PT08.S3(NOx)**: Среднечасовой отклик сенсора на основе вольфрама (номинально нацелен на NOx)\n",
    "10. **NO2(GT)**: Истинная среднечасовая концентрация NO2 в мкг/м³ (референтный анализатор)\n",
    "11. **PT08.S4(NO2)**: Среднечасовой отклик сенсора на основе вольфрама (номинально нацелен на NO2)\n",
    "12. **PT08.S5(O3)**: Среднечасовой отклик сенсора на основе индия (номинально нацелен на O3)\n",
    "13. **T**: Температура в °C\n",
    "14. **RH**: Относительная влажность (%)\n",
    "15. **AH**: Абсолютная влажность\n",
    "\n",
    "Более подробную информацию о наборе данных можно найти на [kaggle.com](https://www.kaggle.com/datasets/fedesoriano/air-quality-data-set).\n",
    "\n",
    "---\n",
    "\n",
    "## Инструкции\n",
    "### Шаг 1. Загрузка набора данных\n",
    "- Используйте следующий код на Python для загрузки набора данных.\n"
   ]
  },
  {
   "cell_type": "code",
   "execution_count": 1,
   "id": "3ef2225c",
   "metadata": {},
   "outputs": [
    {
     "name": "stderr",
     "output_type": "stream",
     "text": [
      "/Users/marinasegaj/Library/Python/3.9/lib/python/site-packages/urllib3/__init__.py:35: NotOpenSSLWarning: urllib3 v2 only supports OpenSSL 1.1.1+, currently the 'ssl' module is compiled with 'LibreSSL 2.8.3'. See: https://github.com/urllib3/urllib3/issues/3020\n",
      "  warnings.warn(\n"
     ]
    },
    {
     "name": "stdout",
     "output_type": "stream",
     "text": [
      "Dataset downloaded and saved as air_quality_by_days.zip\n"
     ]
    }
   ],
   "source": [
    "import requests\n",
    "\n",
    "def download_dataset(url: str, filename: str) -> None:\n",
    "    \"\"\"Downloads a dataset from a specified URL and saves it to a file.\n",
    "\n",
    "    Args:\n",
    "        url (str): The URL from which to download the dataset.\n",
    "        filename (str): The name of the file where the dataset will be saved.\n",
    "\n",
    "    Prints:\n",
    "        A message indicating whether the dataset was successfully downloaded and saved,\n",
    "        or if the download failed.\n",
    "    \"\"\"\n",
    "    response = requests.get(url)\n",
    "    if response.status_code == 200:\n",
    "        with open(filename, 'wb') as file:\n",
    "            file.write(response.content)\n",
    "        print(f\"Dataset downloaded and saved as {filename}\")\n",
    "    else:\n",
    "        print(\"Failed to download the dataset\")\n",
    "\n",
    "# URL of the dataset\n",
    "dataset_url = \"https://drive.google.com/uc?export=download&id=18Qcd2zBVe_AmlqKpr9LIVL-uES_s_q_K\"\n",
    "# Filename to save the dataset\n",
    "filename = \"air_quality_by_days.zip\"\n",
    "\n",
    "# Download the dataset\n",
    "download_dataset(dataset_url, filename)"
   ]
  },
  {
   "cell_type": "code",
   "execution_count": 12,
   "id": "b005f523",
   "metadata": {},
   "outputs": [
    {
     "name": "stdout",
     "output_type": "stream",
     "text": [
      "['air_quality_2004-06-06.csv', 'air_quality_2004-06-12.csv', 'air_quality_2005-10-01.csv', 'air_quality_2005-02-01.csv', 'air_quality_2004-06-07.csv', 'air_quality_2004-06-11.csv', 'air_quality_2004-06-05.csv', 'air_quality_2004-11-09.csv', 'air_quality_2005-10-02.csv', 'air_quality_2004-03-09.csv', 'air_quality_2005-02-02.csv', 'air_quality_2005-02-03.csv', 'air_quality_2004-03-08.csv', 'air_quality_2005-10-03.csv', 'air_quality_2004-11-08.csv', 'air_quality_2004-06-04.csv', 'air_quality_2004-06-10.csv', 'air_quality_2004-08-05.csv', 'air_quality_2004-08-11.csv', 'air_quality_2004-01-09.csv', 'air_quality_2005-12-02.csv', 'air_quality_2004-04-11.csv', 'air_quality_2004-04-05.csv', 'air_quality_2004-04-04.csv', 'air_quality_2004-04-10.csv', 'air_quality_2005-12-03.csv', 'air_quality_2004-01-08.csv', 'air_quality_2004-08-10.csv', 'air_quality_2004-08-04.csv', 'air_quality_2004-08-12.csv', 'air_quality_2004-08-06.csv', 'air_quality_2005-12-01.csv', 'air_quality_2005-02-04.csv', 'air_quality_2004-04-06.csv', 'air_quality_2004-04-12.csv', 'air_quality_2004-04-07.csv', 'air_quality_2004-08-07.csv', 'air_quality_2004-12-10.csv', 'air_quality_2004-12-04.csv', 'air_quality_2004-05-08.csv', 'air_quality_2005-04-03.csv', 'air_quality_2005-08-03.csv', 'air_quality_2004-09-08.csv', 'air_quality_2004-09-09.csv', 'air_quality_2005-08-02.csv', 'air_quality_2005-04-02.csv', 'air_quality_2004-05-09.csv', 'air_quality_2004-12-05.csv', 'air_quality_2004-12-11.csv', 'air_quality_2004-12-07.csv', 'air_quality_2004-10-03.csv', 'air_quality_2005-08-01.csv', 'air_quality_2005-04-01.csv', 'air_quality_2004-12-12.csv', 'air_quality_2004-12-06.csv', 'air_quality_2004-02-07.csv', 'air_quality_2004-10-07.csv', 'air_quality_2004-10-12.csv', 'air_quality_2004-10-06.csv', 'air_quality_2005-06-01.csv', 'air_quality_2004-02-06.csv', 'air_quality_2004-02-12.csv', 'air_quality_2005-04-04.csv', 'air_quality_2004-12-03.csv', 'air_quality_2004-02-04.csv', 'air_quality_2004-02-10.csv', 'air_quality_2005-06-03.csv', 'air_quality_2004-07-08.csv', 'air_quality_2004-10-10.csv', 'air_quality_2004-10-04.csv', 'air_quality_2004-10-05.csv', 'air_quality_2004-10-11.csv', 'air_quality_2004-07-09.csv', 'air_quality_2005-06-02.csv', 'air_quality_2004-02-11.csv', 'air_quality_2004-02-05.csv', 'air_quality_2005-03-03.csv', 'air_quality_2004-02-08.csv', 'air_quality_by_days', 'air_quality_2004-07-10.csv', 'air_quality_2004-07-04.csv', 'air_quality_2005-11-03.csv', 'air_quality_2004-10-08.csv', 'air_quality_2004-10-09.csv', '__MACOSX', 'air_quality_2005-11-02.csv', 'air_quality_2004-07-05.csv', 'air_quality_2004-07-11.csv', 'air_quality_2004-02-09.csv', 'air_quality_2005-03-02.csv', 'air_quality_2004-07-07.csv', 'air_quality_2005-11-01.csv', 'air_quality_2004-07-12.csv', 'air_quality_2004-07-06.csv', 'air_quality_2005-01-04.csv', 'air_quality_2005-03-01.csv', 'air_quality_2004-05-07.csv', 'air_quality_2004-09-07.csv', 'air_quality_2004-09-06.csv', 'air_quality_2005-01-01.csv', 'air_quality_2004-09-12.csv', 'air_quality_2005-03-04.csv', 'air_quality_2004-05-12.csv', 'air_quality_2004-05-06.csv', 'air_quality_2004-12-08.csv', 'air_quality_2004-05-10.csv', 'air_quality_2004-05-04.csv', 'air_quality_2004-09-04.csv', 'air_quality_2004-09-10.csv', 'air_quality_2005-01-03.csv', 'air_quality_2004-09-11.csv', 'air_quality_2005-01-02.csv', 'air_quality_2004-09-05.csv', 'air_quality_2004-05-05.csv', 'air_quality_2004-05-11.csv', 'air_quality_2004-12-09.csv', 'air_quality_2005-09-01.csv', 'air_quality_2004-01-12.csv', 'air_quality_2004-01-06.csv', 'air_quality_2004-11-03.csv', 'air_quality_2005-05-01.csv', 'air_quality_2004-01-07.csv', 'air_quality_2004-08-09.csv', 'air_quality_2004-01-05.csv', 'air_quality_2004-01-11.csv', 'air_quality_2005-09-02.csv', 'air_quality_2005-05-02.csv', 'air_quality_2004-04-09.csv', 'air_quality_2004-04-08.csv', 'air_quality_2005-05-03.csv', 'air_quality_2004-01-10.csv', 'air_quality_2005-09-03.csv', 'air_quality_2004-01-04.csv', 'air_quality_2004-08-08.csv', 'air_quality_2004-06-09.csv', 'air_quality_2005-07-02.csv', 'air_quality_2004-11-11.csv', 'air_quality_2004-11-05.csv', 'air_quality_NaT.csv', 'air_quality_2004-03-05.csv', 'air_quality_2004-03-11.csv', 'air_quality_2004-03-10.csv', 'air_quality_2004-03-04.csv', 'air_quality_2004-11-04.csv', 'air_quality_2004-11-10.csv', 'air_quality_2005-07-03.csv', 'air_quality_2004-06-08.csv', 'air_quality_2005-07-01.csv', 'air_quality_2004-11-06.csv', 'air_quality_2004-11-12.csv', 'air_quality_2004-03-12.csv', 'air_quality_2004-03-06.csv', 'air_quality_2004-03-07.csv', 'air_quality_2004-11-07.csv']\n",
      "         Date      Time CO(GT)  PT08.S1(CO)  NMHC(GT) C6H6(GT)  PT08.S2(NMHC)  \\\n",
      "0  2004-06-06  00.00.00    1,1        895.0    -200.0      5,6          792.0   \n",
      "1  2004-06-06  01.00.00    0,6        810.0    -200.0      3,8          702.0   \n",
      "2  2004-06-06  02.00.00    1,1        968.0    -200.0      6,6          840.0   \n",
      "3  2004-06-06  03.00.00    1,1        922.0    -200.0      7,0          859.0   \n",
      "4  2004-06-06  04.00.00      1        892.0    -200.0      5,2          773.0   \n",
      "\n",
      "   NOx(GT)  PT08.S3(NOx)  NO2(GT)  PT08.S4(NO2)  PT08.S5(O3)     T    RH  \\\n",
      "0     39.0         975.0     58.0        1574.0        733.0  21,9  52,7   \n",
      "1     15.0        1093.0     24.0        1529.0        612.0  21,3  54,9   \n",
      "2     47.0         891.0     58.0        1727.0        788.0  17,5  79,1   \n",
      "3   -200.0         871.0   -200.0        1739.0        728.0  17,6  78,6   \n",
      "4     49.0         926.0     62.0        1660.0        724.0  17,1  81,8   \n",
      "\n",
      "       AH  Unnamed: 15  Unnamed: 16   Date_Only  \n",
      "0  1,3650          NaN          NaN  2004-06-06  \n",
      "1  1,3707          NaN          NaN  2004-06-06  \n",
      "2  1,5709          NaN          NaN  2004-06-06  \n",
      "3  1,5722          NaN          NaN  2004-06-06  \n",
      "4  1,5816          NaN          NaN  2004-06-06  \n"
     ]
    },
    {
     "name": "stderr",
     "output_type": "stream",
     "text": [
      "/var/folders/m_/vpj7yjm52yq0zmzzty1dm1540000gn/T/ipykernel_13161/1126482676.py:15: FutureWarning: The behavior of DataFrame concatenation with empty or all-NA entries is deprecated. In a future version, this will no longer exclude empty or all-NA columns when determining the result dtypes. To retain the old behavior, exclude the relevant entries before the concat operation.\n",
      "  data = pd.concat([pd.read_csv(f\"air_quality_by_days/{file}\") for file in os.listdir(\"air_quality_by_days\") if file.endswith(\".csv\")], ignore_index=True)\n"
     ]
    }
   ],
   "source": [
    "# Распоковка архива\n",
    "import pandas as pd\n",
    "import zipfile\n",
    "import os\n",
    "filename = \"air_quality_by_days.zip\"\n",
    "with zipfile.ZipFile(filename, 'r') as zip_ref:\n",
    "    zip_ref.extractall(\"air_quality_by_days\")\n",
    "# Проверяем , что файлы распаковались\n",
    "print(os.listdir(\"air_quality_by_days\"))\n",
    "#  Загрузка данных\n",
    "file =[file for file in os.listdir(\"air_quality_by_days\") if file.endswith(\".csv\")][0]\n",
    "data = pd.read_csv(f\"air_quality_by_days/{file}\")\n",
    "print(data.head())\n",
    "# Обьединяем данные в один набор данных\n",
    "data = pd.concat([pd.read_csv(f\"air_quality_by_days/{file}\") for file in os.listdir(\"air_quality_by_days\") if file.endswith(\".csv\")], ignore_index=True)\n",
    "# Сохраняем обьединенные данные\n",
    "data.to_csv(\"merged_air_quality.csv\", index=False)"
   ]
  },
  {
   "cell_type": "code",
   "execution_count": 46,
   "id": "b26b8f39",
   "metadata": {},
   "outputs": [
    {
     "name": "stdout",
     "output_type": "stream",
     "text": [
      "         Date  CO(GT)  PT08.S1(CO)  NMHC(GT)  C6H6(GT)  PT08.S2(NMHC)  \\\n",
      "0  2004-06-06     1.1        895.0    -200.0       5.6          792.0   \n",
      "1  2004-06-06     0.6        810.0    -200.0       3.8          702.0   \n",
      "2  2004-06-06     1.1        968.0    -200.0       6.6          840.0   \n",
      "3  2004-06-06     1.1        922.0    -200.0       7.0          859.0   \n",
      "4  2004-06-06     1.0        892.0    -200.0       5.2          773.0   \n",
      "\n",
      "   NOx(GT)  PT08.S3(NOx)  NO2(GT)  PT08.S4(NO2)  PT08.S5(O3)     T    RH  \\\n",
      "0     39.0         975.0     58.0        1574.0        733.0  21.9  52.7   \n",
      "1     15.0        1093.0     24.0        1529.0        612.0  21.3  54.9   \n",
      "2     47.0         891.0     58.0        1727.0        788.0  17.5  79.1   \n",
      "3   -200.0         871.0   -200.0        1739.0        728.0  17.6  78.6   \n",
      "4     49.0         926.0     62.0        1660.0        724.0  17.1  81.8   \n",
      "\n",
      "       AH  \n",
      "0  1.3650  \n",
      "1  1.3707  \n",
      "2  1.5709  \n",
      "3  1.5722  \n",
      "4  1.5816  \n"
     ]
    }
   ],
   "source": [
    "# Удаляем ненужные столбцы\n",
    "data = pd.read_csv(\"merged_air_quality.csv\")\n",
    "data = data.drop(columns=[\"Unnamed: 15\", \"Unnamed: 16\", \"Date_Only\"])\n",
    "# Удаляем столбец Time\n",
    "data = data.drop(columns=[\"Time\"])\n",
    "# Замняем запятую в числовых значениях на точку\n",
    "data = data.replace(\",\", \".\", regex=True)\n",
    "# Преобразуем столбцы во float64\n",
    "data[['CO(GT)', 'C6H6(GT)', 'T', 'RH', 'AH']] = data[['CO(GT)', 'C6H6(GT)', 'T', 'RH', 'AH']].astype('float64')\n",
    "# Сохраняем очищенные данные\n",
    "data.to_csv(\"cleaned_air_quality.csv\", index=False)\n",
    "print(data.head())\n"
   ]
  },
  {
   "cell_type": "code",
   "execution_count": 50,
   "id": "ec64d515",
   "metadata": {},
   "outputs": [
    {
     "name": "stdout",
     "output_type": "stream",
     "text": [
      "         Date CO(GT) PT08.S1(CO) NMHC(GT) C6H6(GT) PT08.S2(NMHC) NOx(GT)  \\\n",
      "0  2004-06-06    1.1       895.0     None      5.6         792.0    39.0   \n",
      "1  2004-06-06    0.6       810.0     None      3.8         702.0    15.0   \n",
      "2  2004-06-06    1.1       968.0     None      6.6         840.0    47.0   \n",
      "3  2004-06-06    1.1       922.0     None      7.0         859.0    None   \n",
      "4  2004-06-06    1.0       892.0     None      5.2         773.0    49.0   \n",
      "\n",
      "  PT08.S3(NOx) NO2(GT) PT08.S4(NO2) PT08.S5(O3)     T    RH      AH  \n",
      "0        975.0    58.0       1574.0       733.0  21.9  52.7   1.365  \n",
      "1       1093.0    24.0       1529.0       612.0  21.3  54.9  1.3707  \n",
      "2        891.0    58.0       1727.0       788.0  17.5  79.1  1.5709  \n",
      "3        871.0    None       1739.0       728.0  17.6  78.6  1.5722  \n",
      "4        926.0    62.0       1660.0       724.0  17.1  81.8  1.5816  \n"
     ]
    }
   ],
   "source": [
    "# Меняем значения -200 на NaN\n",
    "data = pd.read_csv(\"cleaned_air_quality.csv\")\n",
    "data = data.replace(-200, None)\n",
    "# Заполняем NaN средними значениями для числовых столбцов.\n",
    "numeric_columns = data.select_dtypes(include=[\"number\"]).columns  # Выбираем только числовые столбцы\n",
    "data[numeric_columns] = data[numeric_columns].fillna(data[numeric_columns].mean())\n",
    "print(data.head())\n"
   ]
  },
  {
   "cell_type": "code",
   "execution_count": 52,
   "id": "135e1278",
   "metadata": {},
   "outputs": [
    {
     "name": "stdout",
     "output_type": "stream",
     "text": [
      "0\n",
      "         Date CO(GT) PT08.S1(CO) NMHC(GT) C6H6(GT) PT08.S2(NMHC) NOx(GT)  \\\n",
      "0  2004-06-06    1.1       895.0     None      5.6         792.0    39.0   \n",
      "1  2004-06-06    0.6       810.0     None      3.8         702.0    15.0   \n",
      "2  2004-06-06    1.1       968.0     None      6.6         840.0    47.0   \n",
      "3  2004-06-06    1.1       922.0     None      7.0         859.0    None   \n",
      "4  2004-06-06    1.0       892.0     None      5.2         773.0    49.0   \n",
      "\n",
      "  PT08.S3(NOx) NO2(GT) PT08.S4(NO2) PT08.S5(O3)     T    RH      AH  \n",
      "0        975.0    58.0       1574.0       733.0  21.9  52.7   1.365  \n",
      "1       1093.0    24.0       1529.0       612.0  21.3  54.9  1.3707  \n",
      "2        891.0    58.0       1727.0       788.0  17.5  79.1  1.5709  \n",
      "3        871.0    None       1739.0       728.0  17.6  78.6  1.5722  \n",
      "4        926.0    62.0       1660.0       724.0  17.1  81.8  1.5816  \n"
     ]
    }
   ],
   "source": [
    "# Считаем и удаляем дублирующиеся значения\n",
    "data = data.drop_duplicates()\n",
    "print(data.duplicated().sum())\n",
    "print(data.head())"
   ]
  },
  {
   "cell_type": "code",
   "execution_count": 53,
   "id": "97bda0be",
   "metadata": {},
   "outputs": [
    {
     "name": "stdout",
     "output_type": "stream",
     "text": [
      "         Date CO(GT) PT08.S1(CO) NMHC(GT) C6H6(GT) PT08.S2(NMHC) NOx(GT)  \\\n",
      "0  2004-06-06    1.1       895.0     None      5.6         792.0    39.0   \n",
      "1  2004-06-06    0.6       810.0     None      3.8         702.0    15.0   \n",
      "2  2004-06-06    1.1       968.0     None      6.6         840.0    47.0   \n",
      "3  2004-06-06    1.1       922.0     None      7.0         859.0    None   \n",
      "4  2004-06-06    1.0       892.0     None      5.2         773.0    49.0   \n",
      "\n",
      "  PT08.S3(NOx) NO2(GT) PT08.S4(NO2) PT08.S5(O3)     T    RH      AH  \n",
      "0        975.0    58.0       1574.0       733.0  21.9  52.7   1.365  \n",
      "1       1093.0    24.0       1529.0       612.0  21.3  54.9  1.3707  \n",
      "2        891.0    58.0       1727.0       788.0  17.5  79.1  1.5709  \n",
      "3        871.0    None       1739.0       728.0  17.6  78.6  1.5722  \n",
      "4        926.0    62.0       1660.0       724.0  17.1  81.8  1.5816  \n"
     ]
    }
   ],
   "source": [
    "# Сохраняем очищенные данные\n",
    "data.to_csv(\"cleaned_dataset.csv\", index=False)\n",
    "print(data.head())"
   ]
  },
  {
   "cell_type": "code",
   "execution_count": 55,
   "id": "3b06ee57",
   "metadata": {},
   "outputs": [
    {
     "name": "stdout",
     "output_type": "stream",
     "text": [
      "Date with the highest CO(GT) level: 2004-02-12 00:00:00\n",
      "Date with the highest NO2(GT) level: 2005-11-02 00:00:00\n"
     ]
    }
   ],
   "source": [
    "# Определяем дату с наивысшими уровнями CO(GT) и NO2(GT).\n",
    "data = pd.read_csv(\"cleaned_dataset.csv\")\n",
    "data[\"Date\"] = pd.to_datetime(data[\"Date\"])\n",
    "data = data.set_index(\"Date\")\n",
    "max_co = data[\"CO(GT)\"].idxmax()\n",
    "max_no2 = data[\"NO2(GT)\"].idxmax()\n",
    "print(f\"Date with the highest CO(GT) level: {max_co}\")\n",
    "print(f\"Date with the highest NO2(GT) level: {max_no2}\")\n"
   ]
  },
  {
   "cell_type": "markdown",
   "id": "6f99e7a9",
   "metadata": {},
   "source": [
    "- После загрузки извлеките содержимое перед переходом к следующим шагам.\n"
   ]
  },
  {
   "cell_type": "markdown",
   "id": "1f6c3a53",
   "metadata": {},
   "source": [
    "\n",
    "## Руководство по отправке\n",
    "- Сохраните набор данных как `cleaned_air_quality.csv`.\n",
    "- Отправьте Jupyter Notebook, содержащий ваш код.\n",
    "\n",
    "---\n",
    "\n",
    "## Резюме\n",
    "Этот проект предоставил практический опыт работы с реальными данными о качестве воздуха с использованием Pandas. Основные выводы включают:\n",
    "- **Объединение данных:** Эффективное объединение нескольких CSV-файлов.\n",
    "- **Очистка данных:** Обработка пропущенных значений, удаление ненужных столбцов, дубликатов и форматирование данных.\n",
    "- **Разведывательный анализ:** Определение пиковых уровней загрязнителей.\n",
    "\n",
    "\n",
    "### Как отправить проект\n",
    "\n",
    "1. Создайте файл Jupyter Notebook на вашем Google Диске.\n",
    "2. Напишите ваше решение в ноутбуке.\n",
    "3. Поделитесь доступом с вашим наставником (или предоставьте ссылку с правами на редактирование).\n",
    "4. Отправьте ссылку на файл ноутбука или папку в качестве вашего решения для этого урока."
   ]
  }
 ],
 "metadata": {
  "kernelspec": {
   "display_name": "Python 3",
   "language": "python",
   "name": "python3"
  },
  "language_info": {
   "codemirror_mode": {
    "name": "ipython",
    "version": 3
   },
   "file_extension": ".py",
   "mimetype": "text/x-python",
   "name": "python",
   "nbconvert_exporter": "python",
   "pygments_lexer": "ipython3",
   "version": "3.9.6"
  }
 },
 "nbformat": 4,
 "nbformat_minor": 5
}
