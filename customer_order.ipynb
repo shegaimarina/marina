{
 "cells": [
  {
   "cell_type": "markdown",
   "id": "d5a52fcc",
   "metadata": {},
   "source": [
    "# Анализ заказов клиентов с использованием Pandas\n",
    "\n",
    "Эта задача поможет вам развить навыки обработки данных с использованием Pandas. Вы будете работать с наборами данных клиентов и заказов, хранящимися в отдельных CSV-файлах. В ходе выполнения этой задачи вы научитесь:\n",
    "- Загружать и объединять несколько CSV-файлов.\n",
    "- Эффективно обрабатывать отсутствующие значения.\n",
    "- Выполнять статистический анализ для понимания отношений между клиентами и заказами.\n",
    "- Рассчитывать маржу прибыли на продукцию и выявлять товары с высокой прибылью.\n",
    "\n",
    "---\n",
    "\n",
    "## Инструкции\n",
    "\n",
    "### Шаг 1. Подготовка данных\n",
    "**Скачайте** следующие CSV-файлы с **[Kaggle Dataset](https://www.kaggle.com/datasets/gabrielsantello/wholesale-and-retail-orders-dataset/data)**:\n",
    "\n",
    "- `product-supplier.csv` -> содержит категории продуктов, коды продуктов и информацию о поставщиках.\n",
    "- `orders.csv` -> содержит заказы клиентов с деталями продуктов, датой заказа и статусом клиента (Платина > Золото > Серебро).\n",
    "\n",
    "### Шаг 2. Чтение данных из файлов\n",
    "- Загрузите данные из файла `orders.csv` в DataFrame Pandas.\n",
    "- Выведите первые 5 строк и проверьте детали файла.\n",
    "\n",
    "### Шаг 3. Очистка и форматирование данных\n",
    "- Обработка отсутствующих значений: Проверьте наличие NaN или отсутствующих данных в **orders.csv**.\n",
    "- Преобразование формата даты: Измените даты заказов на стандартный формат (ГГГГ-ММ-ДД). (например, из 01-Jan-17 в 2017-01-10)\n",
    "- Исправление названий `Customer Status`: Преобразуйте все вариации \"Silver\", \"GOLD\" и т.д. в стандартный формат (например, Серебро написано в разных формах (SILVER или Silver), убедитесь, что они написаны одинаково -> Silver)\n",
    "- Обеспечение правильных типов данных: Преобразуйте `Customer Status` в строковый формат.\n",
    "\n",
    "### Шаг 4. Анализ данных\n",
    "- Рассчитайте `Retail Price per Unit` (`Total Retail Price for This Order` / `Quantity Ordered`)\n",
    "- Рассчитайте `Profit Margin (%)` ((`Retail Price per Unit` - `Cost Price Per Unit`) / `Cost Price Per Unit` * 100 ).\n",
    "- Загрузите набор данных поставщиков продукции в DataFrame.\n",
    "- Выведите первые 5 строк и проверьте детали файла.\n",
    "- Объедините **orders.csv** и **product_suppliers.csv** по `Product ID` с использованием `inner` соединения.\n",
    "- Удалите ненужные столбцы и оставьте (Customer ID,    Product ID,  Cost Price Per Unit,  Retail Price per Unit, Profit Margin (%), Product Category, Product Name )\n",
    "- Отсортируйте продукты по наибольшей марже прибыли и отобразите 10 лучших продуктов.\n",
    "\n",
    "### Шаг 5. Выполнение анализа\n",
    "- Выведите первые несколько строк объединенного DataFrame для наглядности.\n",
    "- Выведите все результаты анализа.\n",
    "- Сохраните очищенный набор данных как **customer_orders_analysis.csv**, отсортированный по наибольшей марже прибыли.\n",
    "\n",
    "---\n",
    "\n",
    "## Реализация\n",
    "\n"
   ]
  },
  {
   "cell_type": "code",
   "execution_count": null,
   "id": "b94250dc",
   "metadata": {},
   "outputs": [],
   "source": [
    "# Загрузка данных в pandas\n",
    "import pandas as pd\n",
    "import numpy as np\n",
    "df=pd.read_csv('orders.csv')\n",
    "print(df.head(5))"
   ]
  },
  {
   "cell_type": "code",
   "execution_count": null,
   "id": "0df19a0d",
   "metadata": {},
   "outputs": [],
   "source": [
    "# обработка отсутствующих значений\n",
    "cleaned_df=df.isna()\n",
    "print(cleaned_df)"
   ]
  },
  {
   "cell_type": "code",
   "execution_count": null,
   "id": "63208bfc",
   "metadata": {},
   "outputs": [],
   "source": [
    "#преобразование даты на стандартный формат\n",
    "df['date'] = pd.to_datetime(df['Date Order was placed']) # преобразование в формат даты\n",
    "df['Formated Date'] = df['date'].dt.strftime('%Y-%m-%d') # преобразование в формат YYYY-MM-DD\n",
    "\n",
    "print(df.head(5))"
   ]
  },
  {
   "cell_type": "code",
   "execution_count": null,
   "id": "ff5f337a",
   "metadata": {},
   "outputs": [],
   "source": [
    "# Исправдение названий Custunmer Status и преобразуем в сроковой формат\n",
    "df['Customer Status'] = df['Customer Status'].str.lower().str.capitalize().astype(str)\n",
    "print(df.head(5))\n"
   ]
  },
  {
   "cell_type": "code",
   "execution_count": null,
   "id": "3677cda3",
   "metadata": {},
   "outputs": [],
   "source": [
    "# Рассчитываем Retail Price per Unit (Total Retail Price for This Order / Quantity Ordered)\n",
    "df['Retail Price per Unit'] = df['Total Retail Price for This Order'] / df['Quantity Ordered']\n",
    "print(df.head(5))"
   ]
  },
  {
   "cell_type": "code",
   "execution_count": null,
   "id": "33c516e8",
   "metadata": {},
   "outputs": [],
   "source": [
    "# Рассчитываем Profit Margin (%) ((Retail Price per Unit - Cost Price Per Unit) / Cost Price Per Unit * 100 ).\n",
    "df['Profit Margin (%)'] = ((df['Retail Price per Unit'] - df['Cost Price Per Unit']) / df['Cost Price Per Unit']) * 100\n",
    "print(df.head(5))"
   ]
  },
  {
   "cell_type": "code",
   "execution_count": null,
   "id": "16159965",
   "metadata": {},
   "outputs": [],
   "source": [
    "# Загружаем данные поставщиков\n",
    "df_products=pd.read_csv('product-supplier.csv')\n",
    "print(df_products.head(5))\n"
   ]
  },
  {
   "cell_type": "code",
   "execution_count": null,
   "id": "a4b485ec",
   "metadata": {},
   "outputs": [],
   "source": [
    "# Объединяем данные поставщиков с данными заказов\n",
    "df = pd.merge(df, df_products, on='Product ID', how='inner')\n",
    "print(df.head(5))\n"
   ]
  },
  {
   "cell_type": "code",
   "execution_count": null,
   "id": "ee5ac078",
   "metadata": {},
   "outputs": [],
   "source": [
    "# Удаляем ненужные столбцы \n",
    "df.drop(columns=[col for col in df.columns if col not in ['Customer ID', 'Product ID', 'Cost Price Per Unit', 'Retail Price per Unit', 'Profit Margin (%)', 'Product Category','Product Name']], inplace=True)\n",
    "print(df.head(5))"
   ]
  },
  {
   "cell_type": "code",
   "execution_count": null,
   "id": "93d74319",
   "metadata": {},
   "outputs": [],
   "source": [
    "# Сортируем продукты по наибольшей марже и отбираем 10 лучших\n",
    "df = df.sort_values(by='Profit Margin (%)', ascending=False).head(10)\n",
    "print(df.head(10))"
   ]
  },
  {
   "cell_type": "code",
   "execution_count": null,
   "id": "3daad7a6",
   "metadata": {},
   "outputs": [],
   "source": [
    "# Сохраняем очищенный набор данных как customer_orders_analysis.csv, отсортированный по наибольшей марже прибыли.\n",
    "df.to_csv('customer_orders_analysis.csv', index=False)\n",
    "\n"
   ]
  },
  {
   "cell_type": "markdown",
   "id": "5db67c29",
   "metadata": {},
   "source": [
    "\n",
    "\n",
    "## Руководство по отправке\n",
    "- Сохраните очищенный и объединенный набор данных как `customer_orders_analysis.csv`\n",
    "- Отправьте ноутбук вместе с CSV-файлами.\n",
    "\n",
    "### Как отправить проект\n",
    "\n",
    "1. Создайте файл Jupyter Notebook на вашем Google Диске.\n",
    "2. Напишите ваше решение в ноутбуке.\n",
    "3. Поделитесь доступом с вашим наставником (или предоставьте ссылку с правами на редактирование).\n",
    "4. Отправьте ссылку на файл ноутбука или папку в качестве вашего решения для этого урока.\n",
    "\n",
    "---\n",
    "\n",
    "## Резюме\n",
    "Выполнив задачу, вы получили практический опыт в бизнес-анализе данных с использованием Pandas."
   ]
  }
 ],
 "metadata": {
  "kernelspec": {
   "display_name": "Python 3",
   "language": "python",
   "name": "python3"
  },
  "language_info": {
   "codemirror_mode": {
    "name": "ipython",
    "version": 3
   },
   "file_extension": ".py",
   "mimetype": "text/x-python",
   "name": "python",
   "nbconvert_exporter": "python",
   "pygments_lexer": "ipython3",
   "version": "3.9.6"
  }
 },
 "nbformat": 4,
 "nbformat_minor": 5
}
