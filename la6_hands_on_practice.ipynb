{
 "cells": [
  {
   "cell_type": "markdown",
   "id": "89723123",
   "metadata": {},
   "source": [
    "# Практическое занятие по линейной алгебре\n",
    "\n",
    "В этом разделе вы примените изученные концепции линейной алгебры, используя Python и библиотеку NumPy. Убедитесь, что у вас установлен NumPy:\n",
    "\n"
   ]
  },
  {
   "cell_type": "code",
   "execution_count": 1,
   "id": "b5a5b9ad",
   "metadata": {},
   "outputs": [
    {
     "name": "stdout",
     "output_type": "stream",
     "text": [
      "Defaulting to user installation because normal site-packages is not writeable\n",
      "Requirement already satisfied: numpy in /Users/marinasegaj/Library/Python/3.9/lib/python/site-packages (2.0.2)\n",
      "\u001b[33mWARNING: You are using pip version 21.2.4; however, version 25.0.1 is available.\n",
      "You should consider upgrading via the '/Library/Developer/CommandLineTools/usr/bin/python3 -m pip install --upgrade pip' command.\u001b[0m\n",
      "Note: you may need to restart the kernel to use updated packages.\n"
     ]
    }
   ],
   "source": [
    "%pip install numpy"
   ]
  },
  {
   "cell_type": "markdown",
   "id": "cc9f4d89",
   "metadata": {},
   "source": [
    "\n",
    "## 1. **Операции с векторами и матрицами**\n",
    "\n",
    "### 1.1 Создание векторов и матриц\n",
    "\n"
   ]
  },
  {
   "cell_type": "code",
   "execution_count": 2,
   "id": "28984574",
   "metadata": {},
   "outputs": [
    {
     "name": "stdout",
     "output_type": "stream",
     "text": [
      "Вектор: [1 2 3]\n",
      "Матрица:n [[1 2]\n",
      " [3 4]\n",
      " [5 6]]\n"
     ]
    }
   ],
   "source": [
    "import numpy as np\n",
    "\n",
    "# Создание вектора\n",
    "vector = np.array([1, 2, 3])\n",
    "\n",
    "# Создание матрицы\n",
    "matrix = np.array([[1, 2], [3, 4], [5, 6]])\n",
    "\n",
    "print(\"Вектор:\", vector)\n",
    "print(\"Матрица:n\", matrix)"
   ]
  },
  {
   "cell_type": "markdown",
   "id": "3bd0c661",
   "metadata": {},
   "source": [
    "\n",
    "### 1.2 Сложение векторов и матриц\n",
    "\n"
   ]
  },
  {
   "cell_type": "code",
   "execution_count": 3,
   "id": "9e2d2a7b",
   "metadata": {},
   "outputs": [
    {
     "name": "stdout",
     "output_type": "stream",
     "text": [
      "Сумма векторов: [5 7 9]\n",
      "Сумма матриц:n [[ 6  8]\n",
      " [10 12]]\n"
     ]
    }
   ],
   "source": [
    "vector_a = np.array([1, 2, 3])\n",
    "vector_b = np.array([4, 5, 6])\n",
    "\n",
    "# Сложение векторов\n",
    "vector_sum = vector_a + vector_b\n",
    "\n",
    "matrix_a = np.array([[1, 2], [3, 4]])\n",
    "matrix_b = np.array([[5, 6], [7, 8]])\n",
    "\n",
    "# Сложение матриц\n",
    "matrix_sum = matrix_a + matrix_b\n",
    "\n",
    "print(\"Сумма векторов:\", vector_sum)\n",
    "print(\"Сумма матриц:n\", matrix_sum)"
   ]
  },
  {
   "cell_type": "markdown",
   "id": "12dc0310",
   "metadata": {},
   "source": [
    "\n",
    "### 1.3 Скалярное произведение двух векторов\n",
    "\n",
    "Скалярное произведение определяется как:\n",
    "\n"
   ]
  },
  {
   "cell_type": "markdown",
   "id": "677b2c78",
   "metadata": {},
   "source": [
    "$$\n",
    "\\mathbf{a} \\cdot \\mathbf{b} = \\sum_{i=1}^{n} a_i b_i\n",
    "$$\n",
    "Вы можете вычислить его в Python следующим образом:\n",
    "\n"
   ]
  },
  {
   "cell_type": "code",
   "execution_count": 4,
   "id": "39ebcec4",
   "metadata": {},
   "outputs": [
    {
     "name": "stdout",
     "output_type": "stream",
     "text": [
      "Скалярное произведение: 32\n"
     ]
    }
   ],
   "source": [
    "# Скалярное произведение двух векторов\n",
    "dot_product = np.dot(vector_a, vector_b)\n",
    "print(\"Скалярное произведение:\", dot_product)"
   ]
  },
  {
   "cell_type": "markdown",
   "id": "672ef3d6",
   "metadata": {},
   "source": [
    "\n",
    "## 2. **Умножение матриц**\n",
    "\n",
    "Умножение матриц следует определенным правилам. Давайте выполним его с помощью NumPy:\n",
    "\n"
   ]
  },
  {
   "cell_type": "code",
   "execution_count": 5,
   "id": "12b04065",
   "metadata": {},
   "outputs": [
    {
     "name": "stdout",
     "output_type": "stream",
     "text": [
      "Произведение матриц:n [[19 22]\n",
      " [43 50]]\n"
     ]
    }
   ],
   "source": [
    "# Умножение матриц\n",
    "matrix_a = np.array([[1, 2], [3, 4]])\n",
    "matrix_b = np.array([[5, 6], [7, 8]])\n",
    "\n",
    "matrix_product = np.dot(matrix_a, matrix_b)\n",
    "print(\"Произведение матриц:n\", matrix_product)"
   ]
  },
  {
   "cell_type": "markdown",
   "id": "a2de11e7",
   "metadata": {},
   "source": [
    "\n",
    "Формула для умножения матриц:\n",
    "\n"
   ]
  },
  {
   "cell_type": "markdown",
   "id": "ed7b3060",
   "metadata": {},
   "source": [
    "$$\n",
    "(A \\cdot B)_{ij} = \\sum_{k} A_{ik} B_{kj}\n",
    "$$\n",
    "## 3. **Единичная матрица и обращение матрицы**\n",
    "\n",
    "### 3.1 Единичная матрица\n",
    "\n",
    "Единичная матрица — это квадратная матрица, в которой все диагональные элементы равны 1, а остальные элементы равны 0:\n",
    "\n"
   ]
  },
  {
   "cell_type": "code",
   "execution_count": 6,
   "id": "53e824b2",
   "metadata": {},
   "outputs": [
    {
     "name": "stdout",
     "output_type": "stream",
     "text": [
      "Единичная матрица:n [[1. 0. 0.]\n",
      " [0. 1. 0.]\n",
      " [0. 0. 1.]]\n"
     ]
    }
   ],
   "source": [
    "identity_matrix = np.eye(3)\n",
    "print(\"Единичная матрица:n\", identity_matrix)"
   ]
  },
  {
   "cell_type": "markdown",
   "id": "8d32bba4",
   "metadata": {},
   "source": [
    "\n",
    "### 3.2 Обратная матрица\n",
    "\n",
    "Обратная матрица $A$ — это матрица $A^{-1}$, такая что:\n",
    "\n"
   ]
  },
  {
   "cell_type": "markdown",
   "id": "a0bc2699",
   "metadata": {},
   "source": [
    "$$\n",
    "A \\cdot A^{-1} = I\n",
    "$$\n",
    "Где $I$ — единичная матрица.\n",
    "\n",
    "Вы можете вычислить обратную матрицу с помощью NumPy:\n",
    "\n"
   ]
  },
  {
   "cell_type": "code",
   "execution_count": 7,
   "id": "d0db154e",
   "metadata": {},
   "outputs": [
    {
     "name": "stdout",
     "output_type": "stream",
     "text": [
      "Обратная матрица:n [[-2.   1. ]\n",
      " [ 1.5 -0.5]]\n"
     ]
    }
   ],
   "source": [
    "matrix = np.array([[1, 2], [3, 4]])\n",
    "inverse_matrix = np.linalg.inv(matrix)\n",
    "print(\"Обратная матрица:n\", inverse_matrix)"
   ]
  },
  {
   "cell_type": "markdown",
   "id": "cc954676",
   "metadata": {},
   "source": [
    "\n",
    "## 4. **Собственные значения и собственные векторы**\n",
    "\n",
    "Собственные значения и собственные векторы можно вычислить с помощью функции `np.linalg.eig()`. Давайте вычислим их для матрицы 2x2:\n",
    "\n"
   ]
  },
  {
   "cell_type": "code",
   "execution_count": 8,
   "id": "cd374765",
   "metadata": {},
   "outputs": [
    {
     "name": "stdout",
     "output_type": "stream",
     "text": [
      "Собственные значения: [3. 2.]\n",
      "Собственные векторы:n [[0.89442719 0.70710678]\n",
      " [0.4472136  0.70710678]]\n"
     ]
    }
   ],
   "source": [
    "matrix = np.array([[4, -2], [1, 1]])\n",
    "\n",
    "# Вычисление собственных значений и собственных векторов\n",
    "eigenvalues, eigenvectors = np.linalg.eig(matrix)\n",
    "\n",
    "print(\"Собственные значения:\", eigenvalues)\n",
    "print(\"Собственные векторы:n\", eigenvectors)"
   ]
  },
  {
   "cell_type": "markdown",
   "id": "d1359596",
   "metadata": {},
   "source": [
    "\n",
    "Уравнение для собственных значений:\n",
    "\n"
   ]
  },
  {
   "cell_type": "markdown",
   "id": "acc65f0e",
   "metadata": {},
   "source": [
    "$$\n",
    "A \\mathbf{v} = \\lambda \\mathbf{v}\n",
    "$$\n",
    "Где $A$ — матрица, $\\lambda$ представляет собственные значения, а $\\mathbf{v}$ представляет собственные векторы.\n",
    "\n",
    "## 5. **Практические упражнения**\n",
    "\n",
    "### Упражнение 1: Операции с матрицами\n",
    "\n",
    "1. Создайте две матрицы 3x3 и выполните поэлементное сложение и умножение матриц.\n",
    "2. Вычислите скалярное произведение двух 3-мерных векторов.\n",
    "\n",
    "### Упражнение 2: Обратная и единичная матрицы\n",
    "\n",
    "1. Сгенерируйте единичную матрицу 4x4.\n",
    "2. Создайте матрицу 2x2, найдите её обратную матрицу и проверьте, что умножение матрицы на её обратную возвращает единичную матрицу.\n",
    "\n",
    "### Упражнение 3: Собственные значения и собственные векторы\n",
    "\n",
    "1. Создайте матрицу 3x3 и вычислите её собственные значения и собственные векторы.\n",
    "2. Проверьте уравнение для собственных значений: $A \\mathbf{v} = \\lambda \\mathbf{v}$ для наибольшего собственного значения.\n"
   ]
  },
  {
   "cell_type": "code",
   "execution_count": 10,
   "id": "c4317bce",
   "metadata": {},
   "outputs": [
    {
     "name": "stdout",
     "output_type": "stream",
     "text": [
      "[[ 4  7 10]\n",
      " [ 5  8 11]\n",
      " [ 9 12 15]]\n",
      "[[ 72  87 102]\n",
      " [ 48  57  66]\n",
      " [ 60  72  84]]\n"
     ]
    }
   ],
   "source": [
    "matrix_a=np.array([[3,5,7],[1,3,5],[2,4,6]])\n",
    "matrix_b=np.array([[1,2,3],[4,5,6],[7,8,9]])\n",
    "\n",
    "#Сложение матриц\n",
    "matrix_sum=matrix_a+matrix_b\n",
    "print(matrix_sum)\n",
    "\n",
    "#Умножение матриц\n",
    "matrix_product=np.dot(matrix_a,matrix_b)\n",
    "print(matrix_product)\n"
   ]
  },
  {
   "cell_type": "code",
   "execution_count": 11,
   "id": "373cd891",
   "metadata": {},
   "outputs": [
    {
     "name": "stdout",
     "output_type": "stream",
     "text": [
      "245\n"
     ]
    }
   ],
   "source": [
    "vector_a=np.array([10,15,20])\n",
    "vector_b=np.array([3,5,7])\n",
    "\n",
    "#Скалярное произведение\n",
    "dot_product=np.dot(vector_a,vector_b)\n",
    "print(dot_product)  "
   ]
  },
  {
   "cell_type": "code",
   "execution_count": 12,
   "id": "ac176d49",
   "metadata": {},
   "outputs": [
    {
     "name": "stdout",
     "output_type": "stream",
     "text": [
      "Единичная матрица:n [[1. 0. 0. 0.]\n",
      " [0. 1. 0. 0.]\n",
      " [0. 0. 1. 0.]\n",
      " [0. 0. 0. 1.]]\n"
     ]
    }
   ],
   "source": [
    "identity_matrix = np.eye(4)\n",
    "print(\"Единичная матрица:n\", identity_matrix)\n"
   ]
  },
  {
   "cell_type": "code",
   "execution_count": 24,
   "id": "7fd6f25b",
   "metadata": {},
   "outputs": [
    {
     "name": "stdout",
     "output_type": "stream",
     "text": [
      "Обратная матрица:\n",
      " [[ 0.625 -1.125]\n",
      " [-0.375  0.875]]\n",
      "Произведение матрицы и обратной:\n",
      " [[ 1.  0.]\n",
      " [-0.  1.]]\n"
     ]
    }
   ],
   "source": [
    "matrix=np.array([[7,9],[3,5]])\n",
    "inverse_matrix=np.linalg.inv(matrix)\n",
    "print(\"Обратная матрица:\\n\", inverse_matrix)\n",
    "\n",
    "# Умножим марицу на ee обратную\n",
    "matrix_product=np.dot(matrix,inverse_matrix)\n",
    "matrix_product_rounded=np.round(matrix_product,6)\n",
    "print(\"Произведение матрицы и обратной:\\n\", matrix_product_rounded)\n",
    "\n",
    "\n",
    "\n"
   ]
  },
  {
   "cell_type": "code",
   "execution_count": 29,
   "id": "9c743461",
   "metadata": {},
   "outputs": [
    {
     "name": "stdout",
     "output_type": "stream",
     "text": [
      "Собственные значения:\n",
      " [15.81301138 -6.88148353 -2.93152785]\n",
      "Собственные векторы:\n",
      " [[-0.67066876 -0.78914638  0.5127263 ]\n",
      " [-0.44186345  0.00868969 -0.7285966 ]\n",
      " [-0.59578529  0.6141437   0.45415717]]\n",
      "Наибольшеемсобственное значение:\n",
      " 15.813011380425081\n",
      "Максимальный собственный вектор:\n",
      " [-0.67066876 -0.44186345 -0.59578529]\n"
     ]
    }
   ],
   "source": [
    "matrix=np.array([[1,9,10],[4,3,5],[7,8,2]])\n",
    "eigenvalues,eigenvectors=np.linalg.eig(matrix)\n",
    "print(\"Собственные значения:\\n\", eigenvalues)\n",
    "print(\"Собственные векторы:\\n\", eigenvectors)\n",
    "\n",
    "# Находим наибольший собственный вектор и наибольшее собственное значение\n",
    "max_eigenvalue_index=np.argmax(eigenvalues)\n",
    "max_eigenvalue = eigenvalues[max_eigenvalue_index]\n",
    "print(\"Наибольшеемсобственное значение:\\n\",max_eigenvalue)\n",
    "max_eigvec = eigenvectors[:, max_eigenvalue_index]\n",
    "print(\"Максимальный собственный вектор:\\n\", max_eigvec)\n",
    "\n",
    "# Проверим уравнение A*v=lambda*v\n",
    "lhs=lhs = np.dot(matrix, max_eigvec)  # Левая часть уравнения A*v\n",
    "rhs = max_eigenvalue_index * max_eigvec  # Правая часть уравнения lambda*v\n",
    "\n",
    "\n",
    "\n"
   ]
  }
 ],
 "metadata": {
  "kernelspec": {
   "display_name": "Python 3",
   "language": "python",
   "name": "python3"
  },
  "language_info": {
   "codemirror_mode": {
    "name": "ipython",
    "version": 3
   },
   "file_extension": ".py",
   "mimetype": "text/x-python",
   "name": "python",
   "nbconvert_exporter": "python",
   "pygments_lexer": "ipython3",
   "version": "3.9.6"
  }
 },
 "nbformat": 4,
 "nbformat_minor": 5
}
